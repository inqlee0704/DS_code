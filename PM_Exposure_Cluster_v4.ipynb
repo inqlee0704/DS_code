{
 "cells": [
  {
   "cell_type": "markdown",
   "metadata": {},
   "source": [
    "#### PCA + K-means clustering, v4\n",
    "#### Nov 17, 2020 : data_PMno2_20201030\n",
    "\n"
   ]
  },
  {
   "cell_type": "code",
   "execution_count": 21,
   "metadata": {},
   "outputs": [
    {
     "name": "stdout",
     "output_type": "stream",
     "text": [
      "The autoreload extension is already loaded. To reload it, use:\n",
      "  %reload_ext autoreload\n"
     ]
    }
   ],
   "source": [
    "%load_ext autoreload\n",
    "%autoreload 2\n",
    "\n",
    "import pandas as pd\n",
    "import numpy as np\n",
    "import matplotlib.pyplot as plt\n",
    "from sklearn.decomposition import PCA\n",
    "from sklearn.preprocessing import StandardScaler\n",
    "from scipy import stats\n",
    "from itertools import chain\n",
    "from sklearn.cluster import KMeans\n",
    "root_path='/Users/inkyu/Desktop/KU/Research/Data/PM/raw_data'\n",
    "import os\n",
    "from utility_v1 import K_means, PCA_2\n"
   ]
  },
  {
   "cell_type": "code",
   "execution_count": 22,
   "metadata": {},
   "outputs": [],
   "source": [
    "DataFrame = pd.read_excel(root_path + '/data_PMno2_20201030.xlsx')\n",
    "# DataFrame['PM2_5_median'] = DataFrame['PM2_5_median']-DataFrame['PM1_median']\n",
    "# DataFrame['PM4_median'] = DataFrame['PM4_median'] - DataFrame['PM2_5_median'] - DataFrame['PM1_median']\n",
    "# DataFrame['PM10_median'] = DataFrame['PM10_median'] -DataFrame['PM4_median'] - DataFrame['PM2_5_median'] - DataFrame['PM1_median']\n",
    "# DataFrame['TSP_median'] = DataFrame['TSP_median'] - DataFrame['PM10_median'] -DataFrame['PM4_median'] - DataFrame['PM2_5_median'] - DataFrame['PM1_median']\n",
    "\n",
    "DataFrame['PM25_mean'] = DataFrame['PM25_mean']-DataFrame['PM1_mean']\n",
    "DataFrame['PM4_mean'] = DataFrame['PM4_mean'] - DataFrame['PM25_mean'] - DataFrame['PM1_mean']\n",
    "DataFrame['PM10_mean'] = DataFrame['PM10_mean'] -DataFrame['PM4_mean'] - DataFrame['PM25_mean'] - DataFrame['PM1_mean']\n",
    "DataFrame['TSP_mean'] = DataFrame['TSP_mean'] - DataFrame['PM10_mean'] -DataFrame['PM4_mean'] - DataFrame['PM25_mean'] - DataFrame['PM1_mean']\n"
   ]
  },
  {
   "cell_type": "markdown",
   "metadata": {},
   "source": [
    "#### Extract only baseline data to bl_DF"
   ]
  },
  {
   "cell_type": "code",
   "execution_count": 23,
   "metadata": {},
   "outputs": [
    {
     "name": "stdout",
     "output_type": "stream",
     "text": [
      "Number of Subjects:  225\n"
     ]
    },
    {
     "data": {
      "text/html": [
       "<div>\n",
       "<style scoped>\n",
       "    .dataframe tbody tr th:only-of-type {\n",
       "        vertical-align: middle;\n",
       "    }\n",
       "\n",
       "    .dataframe tbody tr th {\n",
       "        vertical-align: top;\n",
       "    }\n",
       "\n",
       "    .dataframe thead th {\n",
       "        text-align: right;\n",
       "    }\n",
       "</style>\n",
       "<table border=\"1\" class=\"dataframe\">\n",
       "  <thead>\n",
       "    <tr style=\"text-align: right;\">\n",
       "      <th></th>\n",
       "      <th>no</th>\n",
       "      <th>id</th>\n",
       "      <th>months</th>\n",
       "      <th>fu</th>\n",
       "      <th>dis</th>\n",
       "      <th>filename</th>\n",
       "      <th>subj</th>\n",
       "      <th>PM1_N</th>\n",
       "      <th>PM1_mean</th>\n",
       "      <th>PM1_median</th>\n",
       "      <th>...</th>\n",
       "      <th>PM10_max</th>\n",
       "      <th>TSP_N</th>\n",
       "      <th>TSP_mean</th>\n",
       "      <th>tsp_median</th>\n",
       "      <th>TSP_SD</th>\n",
       "      <th>TSP_min</th>\n",
       "      <th>TSP_max</th>\n",
       "      <th>no2</th>\n",
       "      <th>no2date</th>\n",
       "      <th>no2_name</th>\n",
       "    </tr>\n",
       "  </thead>\n",
       "  <tbody>\n",
       "    <tr>\n",
       "      <th>0</th>\n",
       "      <td>1</td>\n",
       "      <td>PMBR02001</td>\n",
       "      <td>0</td>\n",
       "      <td>NaN</td>\n",
       "      <td>COPD</td>\n",
       "      <td>02-02-001양면모COPD</td>\n",
       "      <td>02-02-001</td>\n",
       "      <td>1554</td>\n",
       "      <td>18.844981</td>\n",
       "      <td>14.6</td>\n",
       "      <td>...</td>\n",
       "      <td>409.2</td>\n",
       "      <td>1554</td>\n",
       "      <td>8.193179</td>\n",
       "      <td>34.1</td>\n",
       "      <td>55.602988</td>\n",
       "      <td>12.9</td>\n",
       "      <td>685.6</td>\n",
       "      <td>20.2</td>\n",
       "      <td>2019.02.12~13</td>\n",
       "      <td>양면모</td>\n",
       "    </tr>\n",
       "    <tr>\n",
       "      <th>1</th>\n",
       "      <td>5</td>\n",
       "      <td>PMBR02002</td>\n",
       "      <td>0</td>\n",
       "      <td>NaN</td>\n",
       "      <td>COPD</td>\n",
       "      <td>02-02-002김응수COPD</td>\n",
       "      <td>02-02-002</td>\n",
       "      <td>1567</td>\n",
       "      <td>9.351244</td>\n",
       "      <td>7.7</td>\n",
       "      <td>...</td>\n",
       "      <td>223.3</td>\n",
       "      <td>1567</td>\n",
       "      <td>11.370836</td>\n",
       "      <td>40.0</td>\n",
       "      <td>46.061824</td>\n",
       "      <td>1.7</td>\n",
       "      <td>416.2</td>\n",
       "      <td>31.0</td>\n",
       "      <td>2019.05.06~07</td>\n",
       "      <td>김응수</td>\n",
       "    </tr>\n",
       "    <tr>\n",
       "      <th>2</th>\n",
       "      <td>8</td>\n",
       "      <td>PMBR02003</td>\n",
       "      <td>0</td>\n",
       "      <td>NaN</td>\n",
       "      <td>COPD</td>\n",
       "      <td>02-02-003김영길COPD</td>\n",
       "      <td>02-02-003</td>\n",
       "      <td>1686</td>\n",
       "      <td>15.286180</td>\n",
       "      <td>13.2</td>\n",
       "      <td>...</td>\n",
       "      <td>918.0</td>\n",
       "      <td>1686</td>\n",
       "      <td>12.988434</td>\n",
       "      <td>28.8</td>\n",
       "      <td>78.616257</td>\n",
       "      <td>5.8</td>\n",
       "      <td>1043.7</td>\n",
       "      <td>75.0</td>\n",
       "      <td>2019.05.23~24</td>\n",
       "      <td>김영길</td>\n",
       "    </tr>\n",
       "    <tr>\n",
       "      <th>3</th>\n",
       "      <td>11</td>\n",
       "      <td>PMBR02004</td>\n",
       "      <td>0</td>\n",
       "      <td>NaN</td>\n",
       "      <td>COPD</td>\n",
       "      <td>02-02-004최종철COPD</td>\n",
       "      <td>02-02-004</td>\n",
       "      <td>1578</td>\n",
       "      <td>10.156971</td>\n",
       "      <td>9.0</td>\n",
       "      <td>...</td>\n",
       "      <td>128.4</td>\n",
       "      <td>1578</td>\n",
       "      <td>2.728327</td>\n",
       "      <td>27.1</td>\n",
       "      <td>21.753609</td>\n",
       "      <td>10.5</td>\n",
       "      <td>234.2</td>\n",
       "      <td>36.2</td>\n",
       "      <td>2019.05.29~30</td>\n",
       "      <td>최종철</td>\n",
       "    </tr>\n",
       "    <tr>\n",
       "      <th>4</th>\n",
       "      <td>13</td>\n",
       "      <td>PMBR02005</td>\n",
       "      <td>0</td>\n",
       "      <td>NaN</td>\n",
       "      <td>COPD</td>\n",
       "      <td>02-02-005 곽정위 COPD</td>\n",
       "      <td>02-02-005</td>\n",
       "      <td>1420</td>\n",
       "      <td>10.501831</td>\n",
       "      <td>8.5</td>\n",
       "      <td>...</td>\n",
       "      <td>246.6</td>\n",
       "      <td>1420</td>\n",
       "      <td>18.579437</td>\n",
       "      <td>36.9</td>\n",
       "      <td>75.269321</td>\n",
       "      <td>8.9</td>\n",
       "      <td>1501.1</td>\n",
       "      <td>43.1</td>\n",
       "      <td>2019.10.10~11</td>\n",
       "      <td>곽정위</td>\n",
       "    </tr>\n",
       "  </tbody>\n",
       "</table>\n",
       "<p>5 rows × 40 columns</p>\n",
       "</div>"
      ],
      "text/plain": [
       "   no         id  months  fu   dis            filename       subj  PM1_N  \\\n",
       "0   1  PMBR02001       0 NaN  COPD    02-02-001양면모COPD  02-02-001   1554   \n",
       "1   5  PMBR02002       0 NaN  COPD    02-02-002김응수COPD  02-02-002   1567   \n",
       "2   8  PMBR02003       0 NaN  COPD    02-02-003김영길COPD  02-02-003   1686   \n",
       "3  11  PMBR02004       0 NaN  COPD    02-02-004최종철COPD  02-02-004   1578   \n",
       "4  13  PMBR02005       0 NaN  COPD  02-02-005 곽정위 COPD  02-02-005   1420   \n",
       "\n",
       "    PM1_mean  PM1_median  ...  PM10_max  TSP_N   TSP_mean  tsp_median  \\\n",
       "0  18.844981        14.6  ...     409.2   1554   8.193179        34.1   \n",
       "1   9.351244         7.7  ...     223.3   1567  11.370836        40.0   \n",
       "2  15.286180        13.2  ...     918.0   1686  12.988434        28.8   \n",
       "3  10.156971         9.0  ...     128.4   1578   2.728327        27.1   \n",
       "4  10.501831         8.5  ...     246.6   1420  18.579437        36.9   \n",
       "\n",
       "      TSP_SD  TSP_min  TSP_max   no2        no2date  no2_name  \n",
       "0  55.602988     12.9    685.6  20.2  2019.02.12~13       양면모  \n",
       "1  46.061824      1.7    416.2  31.0  2019.05.06~07       김응수  \n",
       "2  78.616257      5.8   1043.7  75.0  2019.05.23~24       김영길  \n",
       "3  21.753609     10.5    234.2  36.2  2019.05.29~30       최종철  \n",
       "4  75.269321      8.9   1501.1  43.1  2019.10.10~11       곽정위  \n",
       "\n",
       "[5 rows x 40 columns]"
      ]
     },
     "execution_count": 23,
     "metadata": {},
     "output_type": "execute_result"
    }
   ],
   "source": [
    "bl_DF = DataFrame[DataFrame.months==0]\n",
    "print(\"Number of Subjects: \", len(bl_DF))\n",
    "bl_DF = bl_DF.reset_index()\n",
    "bl_DF = bl_DF.drop(columns=['index'])\n",
    "bl_DF.head()"
   ]
  },
  {
   "cell_type": "code",
   "execution_count": 24,
   "metadata": {},
   "outputs": [
    {
     "name": "stdout",
     "output_type": "stream",
     "text": [
      "*** Outlier detected ***\n",
      "PM1_mean\n",
      "69.7738206\n",
      "74.0787969\n",
      "62.40069156\n",
      "56.30202939\n",
      "*** Outlier detected ***\n",
      "PM25_mean\n",
      "38.9831894\n",
      "35.4570578\n",
      "26.928642859999997\n",
      "32.46971544\n",
      "24.161\n",
      "*** Outlier detected ***\n",
      "PM4_mean\n",
      "24.084694759999998\n",
      "26.84795252\n",
      "24.007028000000005\n",
      "26.614730159999993\n",
      "24.503523040000005\n",
      "22.717630659999998\n",
      "29.581384615000005\n",
      "*** Outlier detected ***\n",
      "PM10_mean\n",
      "621.84927264\n",
      "1787.39375843\n",
      "*** Outlier detected ***\n",
      "TSP_mean\n",
      "561.9989252\n",
      "142.95774480000003\n",
      "*** Outlier detected ***\n",
      "no2\n",
      "75.0\n",
      "71.4\n",
      "65.4\n",
      "78.9\n",
      "67.4\n",
      "Indices of 17 outliers:  [  2  10  12  17  27  31  33  36  48  69  72  74 146 179 182 195 217]\n"
     ]
    }
   ],
   "source": [
    "# For mean only\n",
    "variables = [\"PM1_mean\",\"PM25_mean\",\"PM4_mean\",\"PM10_mean\",\"TSP_mean\",\"no2\"]\n",
    "# For mean and max calculation\n",
    "# variables = [\"PM1_mean\",\"PM25_mean\",\"PM4_mean\",\"PM10_mean\",\"TSP_mean\",\"no2\",\n",
    "#             \"PM1_max\",\"PM25_max\",'PM4_max','PM10_max','TSP_max']\n",
    "# For median calculation\n",
    "# variables = [\"PM1_median\",\"PM2_5_median\",\"PM4_median\",\"PM10_median\",\"TSP_median\",\"no2\",\n",
    "#             \"PM1_max\",\"PM25_max\",'PM4_max','PM10_max','TSP_max']\n",
    "# Detect Outliers\n",
    "outliers = []\n",
    "threshold = 3\n",
    "for variable in variables:\n",
    "    z = np.abs(stats.zscore(pd.to_numeric(bl_DF[variable].values)))\n",
    "    outlier = np.where(z > threshold)\n",
    "    print(\"*** Outlier detected ***\")\n",
    "    print(variable)\n",
    "    for temp in outlier[0].tolist():\n",
    "        print(bl_DF[variable].iloc[temp])\n",
    "    \n",
    "    outliers.extend(outlier)\n",
    "outliers = np.unique(list(chain(*outliers)))\n",
    "print(\"Indices of\",len(outliers),\"outliers: \", outliers)\n",
    "# Remove Outliers\n",
    "for i in range(len(outliers)):\n",
    "    bl_DF = bl_DF.drop(index=outliers[i])\n",
    "bl_DF = bl_DF.reset_index()\n",
    "bl_DF = bl_DF.drop(columns=['index'])   \n"
   ]
  },
  {
   "cell_type": "markdown",
   "metadata": {},
   "source": [
    "### PCA: "
   ]
  },
  {
   "cell_type": "code",
   "execution_count": 25,
   "metadata": {},
   "outputs": [],
   "source": [
    "x = bl_DF.loc[:,variables].values\n",
    "PCs, weights = PCA_2(x)\n",
    "PC1 = PCs.iloc[:,0].values\n",
    "PC2 = PCs.iloc[:,1].values\n",
    "PC_weights = pd.DataFrame(weights, columns=variables,index=['PC1','PC2'])"
   ]
  },
  {
   "cell_type": "code",
   "execution_count": 39,
   "metadata": {},
   "outputs": [
    {
     "data": {
      "text/plain": [
       "Text(0, 0.5, 'PC2')"
      ]
     },
     "execution_count": 39,
     "metadata": {},
     "output_type": "execute_result"
    },
    {
     "data": {
      "image/png": "[encoded data removed]",
      "text/plain": [
       "<Figure size 360x360 with 1 Axes>"
      ]
     },
     "metadata": {},
     "output_type": "display_data"
    }
   ],
   "source": [
    "# labels_2, centroids_2 = K_means(PC1, PC2, n=2,plot=True)\n",
    "# labels_3, centroids_3 = K_means(PC1, PC2, n=3,plot=True)\n",
    "labels_4, centroids_4 = K_means(PC1, PC2, n=4,plot=True)\n",
    "plt.xlabel(\"PC1\")\n",
    "plt.ylabel(\"PC2\")"
   ]
  },
  {
   "cell_type": "code",
   "execution_count": 27,
   "metadata": {},
   "outputs": [],
   "source": [
    "bl_DF['cluster_n2'] = labels_2\n",
    "bl_DF['cluster_n3'] = labels_3\n",
    "bl_DF['cluster_n4'] = labels_4"
   ]
  },
  {
   "cell_type": "markdown",
   "metadata": {},
   "source": [
    "### Rank each cluster"
   ]
  },
  {
   "cell_type": "code",
   "execution_count": 28,
   "metadata": {},
   "outputs": [],
   "source": [
    "# Calculate distacne from its centroid\n",
    "d_n2 =[]\n",
    "d_n3 =[]\n",
    "d_n4 =[]\n",
    "for i in range(len(bl_DF)):\n",
    "    if bl_DF.loc[i,'cluster_n2'] ==1:\n",
    "        d_n2.append(np.linalg.norm([np.abs(PC1[i]-centroids_2[0,0]),np.abs(PC2[i]-centroids_2[0,1])]))\n",
    "        \n",
    "    elif bl_DF.loc[i,'cluster_n2'] ==2:\n",
    "        d_n2.append(np.linalg.norm([np.abs(PC1[i]-centroids_2[1,0]),np.abs(PC2[i]-centroids_2[1,1])]))\n",
    "    \n",
    "    if bl_DF.loc[i,'cluster_n3'] ==1:\n",
    "        d_n3.append(np.linalg.norm([np.abs(PC1[i]-centroids_3[0,0]),np.abs(PC2[i]-centroids_3[0,1])]))\n",
    "    elif bl_DF.loc[i,'cluster_n3'] ==2:\n",
    "        d_n3.append(np.linalg.norm([np.abs(PC1[i]-centroids_3[1,0]),np.abs(PC2[i]-centroids_3[1,1])]))\n",
    "    elif bl_DF.loc[i,'cluster_n3'] ==3:\n",
    "        d_n3.append(np.linalg.norm([np.abs(PC1[i]-centroids_3[2,0]),np.abs(PC2[i]-centroids_3[2,1])]))\n",
    "        \n",
    "    if bl_DF.loc[i,'cluster_n4'] ==1:\n",
    "        d_n4.append(np.linalg.norm([np.abs(PC1[i]-centroids_4[0,0]),np.abs(PC2[i]-centroids_4[0,1])]))\n",
    "    elif bl_DF.loc[i,'cluster_n4'] ==2:\n",
    "        d_n4.append(np.linalg.norm([np.abs(PC1[i]-centroids_4[1,0]),np.abs(PC2[i]-centroids_4[1,1])]))\n",
    "    elif bl_DF.loc[i,'cluster_n4'] ==3:\n",
    "        d_n4.append(np.linalg.norm([np.abs(PC1[i]-centroids_4[2,0]),np.abs(PC2[i]-centroids_4[2,1])]))\n",
    "    elif bl_DF.loc[i,'cluster_n4'] ==4:\n",
    "        d_n4.append(np.linalg.norm([np.abs(PC1[i]-centroids_4[3,0]),np.abs(PC2[i]-centroids_4[3,1])]))\n",
    "        "
   ]
  },
  {
   "cell_type": "code",
   "execution_count": 29,
   "metadata": {},
   "outputs": [],
   "source": [
    "bl_DF['d_n2'] = d_n2\n",
    "bl_DF['d_n3'] = d_n3\n",
    "bl_DF['d_n4'] = d_n4\n",
    "\n"
   ]
  },
  {
   "cell_type": "code",
   "execution_count": 30,
   "metadata": {},
   "outputs": [],
   "source": [
    "def rank_from_dist(df,k,label):\n",
    "    temp = df[df['cluster_n'+str(k)]==label]\n",
    "    temp = temp.sort_values(by=['d_n'+str(k)])\n",
    "    temp = temp.reset_index()\n",
    "    temp['Rank_n'+str(k)] = temp.index +1\n",
    "    temp.index = temp.iloc[:,0].values\n",
    "    temp = temp.drop(columns=['index'])\n",
    "    return temp"
   ]
  },
  {
   "cell_type": "code",
   "execution_count": 31,
   "metadata": {},
   "outputs": [],
   "source": [
    "df_k2_1 = rank_from_dist(bl_DF,k=2,label=1)\n",
    "df_k2_2 = rank_from_dist(bl_DF, k=2, label=2)\n",
    "df_k2 = pd.concat([df_k2_1,df_k2_2])\n",
    "\n",
    "df_k3_1 = rank_from_dist(bl_DF,k=3,label=1)\n",
    "df_k3_2 = rank_from_dist(bl_DF, k=3, label=2)\n",
    "df_k3_3 = rank_from_dist(bl_DF, k=3, label=3)\n",
    "df_k3 = pd.concat([df_k3_1,df_k3_2, df_k3_3])\n",
    "\n",
    "df_k4_1 = rank_from_dist(bl_DF,k=4,label=1)\n",
    "df_k4_2 = rank_from_dist(bl_DF, k=4, label=2)\n",
    "df_k4_3 = rank_from_dist(bl_DF, k=4, label=3)\n",
    "df_k4_4 = rank_from_dist(bl_DF, k=4, label=4)\n",
    "df_k4 = pd.concat([df_k4_1,df_k4_2, df_k4_3, df_k4_4])"
   ]
  },
  {
   "cell_type": "code",
   "execution_count": 32,
   "metadata": {},
   "outputs": [],
   "source": [
    "df_k2_3 = pd.merge(df_k2,df_k3, how='outer')\n",
    "df_k2_3_4 = pd.merge(df_k2_3, df_k4,how='outer')\n",
    "df_k2_3_4 = df_k2_3_4.sort_values(by=['Rank_n4','cluster_n4'])\n"
   ]
  },
  {
   "cell_type": "code",
   "execution_count": 33,
   "metadata": {},
   "outputs": [],
   "source": [
    "df_k2_3_4['PC1'] = PC1\n",
    "df_k2_3_4['PC2'] = PC2"
   ]
  },
  {
   "cell_type": "code",
   "execution_count": 34,
   "metadata": {},
   "outputs": [],
   "source": [
    "cols = df_k2_3_4.columns.tolist()\n",
    "cols = cols[:38] + cols[-2:] + cols[38:-2]\n",
    "df_k2_3_4 = df_k2_3_4[cols]\n"
   ]
  },
  {
   "cell_type": "code",
   "execution_count": 35,
   "metadata": {},
   "outputs": [],
   "source": [
    "with pd.ExcelWriter(os.path.join(root_path,'data_PMno2_200909_mean_clustered_20201030.xlsx')) as writer:\n",
    "    \n",
    "    df_k2_3_4.to_excel(writer,index=False)\n",
    "    PC_weights.to_excel(writer,sheet_name='PC weights')"
   ]
  },
  {
   "cell_type": "code",
   "execution_count": 175,
   "metadata": {},
   "outputs": [],
   "source": [
    "# with pd.ExcelWriter(os.path.join(root_path,'직독기_202005_07+202004_median_clustered_20201005.xlsx')) as writer:\n",
    "    \n",
    "#     bl_DF.to_excel(writer,index=False)\n",
    "#     PC_weights.to_excel(writer,sheet_name='PC weights')"
   ]
  },
  {
   "cell_type": "code",
   "execution_count": 176,
   "metadata": {},
   "outputs": [],
   "source": [
    "# DataFrame['clustering_n2'] = -1\n",
    "# DataFrame['clustering_n3'] = -1\n",
    "# DataFrame['clustering_n4'] = -1\n",
    "# Final_DF = DataFrame\n",
    "\n",
    "# o_index = bl_DF.out_id.values\n",
    "# r_index = []\n",
    "# for temp in o_index:\n",
    "#     r_index.append(int(temp.replace(\"d\",\"\"))-1)\n",
    "# Final_DF.clustering_n2[r_index] = bl_DF.clustering_n2.values\n",
    "# Final_DF.clustering_n3[r_index] = bl_DF.clustering_n3.values\n",
    "# Final_DF.clustering_n4[r_index] = bl_DF.clustering_n4.values\n",
    "# Ignore the waringing below"
   ]
  },
  {
   "cell_type": "code",
   "execution_count": 107,
   "metadata": {},
   "outputs": [],
   "source": []
  }
 ],
 "metadata": {
  "kernelspec": {
   "display_name": "Python 3",
   "language": "python",
   "name": "python3"
  },
  "language_info": {
   "codemirror_mode": {
    "name": "ipython",
    "version": 3
   },
   "file_extension": ".py",
   "mimetype": "text/x-python",
   "name": "python",
   "nbconvert_exporter": "python",
   "pygments_lexer": "ipython3",
   "version": "3.7.9"
  }
 },
 "nbformat": 4,
 "nbformat_minor": 4
}

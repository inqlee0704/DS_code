{
 "cells": [
  {
   "cell_type": "markdown",
   "metadata": {},
   "source": [
    "REF: https://goldcopd.org/wp-content/uploads/2020/03/GOLD-2020-POCKET-GUIDE-ver1.0_FINAL-WMV.pdf\n",
    "Need to get PFT date difference\n",
    "\n",
    "exposure and lung function decline\n",
    "\n",
    "PCA and cluster\n",
    "- only exposure\n",
    "    - SO2 TO PM25\n",
    "    - PCA and K-means -> weights\n",
    "- All\n",
    "\n",
    "Correlation:\n",
    "- PM PCs and exposure vs all PFT changes\n",
    "- Highlight significant correlated PFT values and T0 and T1\n",
    "\n",
    "Scatterplot for FEV1, FEV1/FVC, and highly correlated with PM exposure\n",
    "\n",
    "FEV1/FVC post < 0.7\n",
    "FEV1/FVC post >=0.7 Gold0\n",
    "Grade classification \n",
    "\n",
    "Find out decreased PFT variables and highlight\n",
    "compute 1 year change of all PFT variables\n",
    "\n",
    "Random Forest\n",
    "- all %pred post \n",
    "\n",
    "\n",
    "\n",
    "\n",
    "Correlation between \n",
    "- all averaged PM variables and changes in PFT\n",
    "- changes in PFT and baseline PFT"
   ]
  },
  {
   "cell_type": "code",
   "execution_count": null,
   "metadata": {},
   "outputs": [],
   "source": [
    "%load_ext autoreload\n",
    "%autoreload 2\n",
    "%matplotlib inline\n",
    "\n",
    "import pandas as pd\n",
    "import numpy as np\n",
    "import matplotlib.pyplot as plt\n",
    "import seaborn as sns\n",
    "import os\n",
    "from scipy import stats\n",
    "from sklearn.cluster import KMeans\n",
    "from utility import *\n",
    "\n",
    "sns.set_theme(style=\"whitegrid\")\n",
    "pd.set_option('display.max_columns', None)"
   ]
  },
  {
   "cell_type": "code",
   "execution_count": null,
   "metadata": {},
   "outputs": [],
   "source": [
    "SUBJID = 'Subj'\n",
    "ROOT_PATH = '/home/twkim/datascience/'\n",
    "DATA_PATH = '/home/twkim/datascience/QCT_Pro_20200304.csv'\n",
    "\n",
    "df_raw = pd.read_csv(DATA_PATH)\n",
    "df_VZERO = df_raw.filter(regex='0$', axis=1)\n",
    "df_subj_id = df_raw[SUBJID]\n",
    "\n",
    "PM_col = [col for col in df_raw.columns if 'PM' in col]\n",
    "PFT_col = df_raw.columns[12:59].values\n",
    "DESC_col = ['Age_yr', 'Height_m', 'Weight_kg']\n",
    "\n",
    "print('# of subjects: ' + str(len(subj_id)))"
   ]
  },
  {
   "cell_type": "code",
   "execution_count": null,
   "metadata": {},
   "outputs": [],
   "source": [
    "# Preprocess\n",
    "df_target = df_VZERO\n",
    "df_target = remove_inf_and_nan(df_target)\n",
    "df_target = remove_outlier(df_target,threshold=3.5)\n"
   ]
  },
  {
   "cell_type": "code",
   "execution_count": null,
   "metadata": {},
   "outputs": [],
   "source": [
    "PCs, weights = PCA_2(df_target.values)\n",
    "\n",
    "PC1_df_target = PCs.iloc[:,0].values\n",
    "PC2_df_target = PCs.iloc[:,1].values\n",
    "PC_weights_df_target = pd.DataFrame(weights, columns=df_target.columns, index=['PC1', 'PC2'])"
   ]
  },
  {
   "cell_type": "code",
   "execution_count": null,
   "metadata": {},
   "outputs": [],
   "source": [
    "labels2_PC_df_target, centroids2_PC_df_target = K_means(PC1_df_target, PC2_df_target, n=2,plot=True,xlabel='PC1',ylabel='PC2')\n",
    "labels3_PC_df_target, centroids3_PC_df_target = K_means(PC1_df_target, PC2_df_target, n=3,plot=True,xlabel='PC1',ylabel='PC2')\n",
    "labels4_PC_df_target, centroids4_PC_df_target = K_means(PC1_df_target, PC2_df_target, n=4,plot=True,xlabel='PC1',ylabel='PC2')"
   ]
  },
  {
   "cell_type": "markdown",
   "metadata": {},
   "source": [
    "# Correlation: PCs"
   ]
  },
  {
   "cell_type": "code",
   "execution_count": null,
   "metadata": {},
   "outputs": [],
   "source": [
    "df_target['PC1'] = PC1_df_target\n",
    "df_target['PC2'] = PC2_df_target\n",
    "df_target[SUBJID] = subj_id\n",
    "df_target = swap_col(df_target)\n",
    "\n",
    "#fu01['Cluster_PCA, k=2'] = labels2_PC_fu01\n",
    "#fu01['Cluster_PCA, k=3'] = labels3_PC_fu01\n",
    "#fu01['Cluster_PCA, k=4'] = labels4_PC_fu01\n",
    "\n",
    "df_target.head()"
   ]
  },
  {
   "cell_type": "code",
   "execution_count": null,
   "metadata": {},
   "outputs": [],
   "source": [
    "# Pearson\n",
    "p_corr_target = df_target.corr(method='pearson')\n",
    "PCA_columns = p_corr_target.columns[:-2]\n",
    "target_columns = p_corr_target.columns[-2:]\n",
    "p_corr, p_values = show_cor_heatmap(p_corr_target,43,target_columns,target_columns,symmetric=True,return_pvalue=True)"
   ]
  },
  {
   "cell_type": "code",
   "execution_count": null,
   "metadata": {},
   "outputs": [],
   "source": [
    "p_corr.to_excel(ROOT_PATH + 'output_Pro_p_corr.xlsx')\n",
    "p_values.to_excel(ROOT_PATH + 'output_Pro_p_values.xlsx')"
   ]
  }
 ],
 "metadata": {
  "kernelspec": {
   "display_name": "Python 3",
   "language": "python",
   "name": "python3"
  },
  "language_info": {
   "codemirror_mode": {
    "name": "ipython",
    "version": 3
   },
   "file_extension": ".py",
   "mimetype": "text/x-python",
   "name": "python",
   "nbconvert_exporter": "python",
   "pygments_lexer": "ipython3",
   "version": "3.8.5-final"
  }
 },
 "nbformat": 4,
 "nbformat_minor": 4
}